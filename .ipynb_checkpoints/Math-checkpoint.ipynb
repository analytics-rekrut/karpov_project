{
 "cells": [
  {
   "cell_type": "code",
   "execution_count": 8,
   "id": "f65c4a26",
   "metadata": {},
   "outputs": [
    {
     "data": {
      "text/plain": [
       "0.18367346938775508"
      ]
     },
     "execution_count": 8,
     "metadata": {},
     "output_type": "execute_result"
    }
   ],
   "source": [
    "0.5*0.2+0.8*0.5"
   ]
  },
  {
   "cell_type": "code",
   "execution_count": 7,
   "id": "d8156674",
   "metadata": {},
   "outputs": [
    {
     "data": {
      "text/plain": [
       "0.976"
      ]
     },
     "execution_count": 7,
     "metadata": {},
     "output_type": "execute_result"
    }
   ],
   "source": [
    "1-0.2*0.3*0.4"
   ]
  },
  {
   "cell_type": "code",
   "execution_count": 1,
   "id": "35073456",
   "metadata": {},
   "outputs": [],
   "source": [
    "import math"
   ]
  },
  {
   "cell_type": "code",
   "execution_count": 17,
   "id": "afb5983c",
   "metadata": {},
   "outputs": [
    {
     "data": {
      "text/plain": [
       "0.1169607"
      ]
     },
     "execution_count": 17,
     "metadata": {},
     "output_type": "execute_result"
    }
   ],
   "source": [
    "\n",
    "def cube_root(n):\n",
    "    return round(n ** (1/3), 7)\n",
    "cube_root(1-0.9984)\n"
   ]
  },
  {
   "cell_type": "code",
   "execution_count": 18,
   "id": "981a2654",
   "metadata": {},
   "outputs": [
    {
     "data": {
      "text/plain": [
       "0.8830393"
      ]
     },
     "execution_count": 18,
     "metadata": {},
     "output_type": "execute_result"
    }
   ],
   "source": [
    "1-0.1169607"
   ]
  },
  {
   "cell_type": "code",
   "execution_count": 27,
   "id": "7080396a",
   "metadata": {},
   "outputs": [
    {
     "data": {
      "text/plain": [
       "0.5277777777777778"
      ]
     },
     "execution_count": 27,
     "metadata": {},
     "output_type": "execute_result"
    }
   ],
   "source": [
    "19/36"
   ]
  },
  {
   "cell_type": "code",
   "execution_count": 2,
   "id": "dceb3ebb",
   "metadata": {},
   "outputs": [],
   "source": [
    "from scipy import special"
   ]
  },
  {
   "cell_type": "code",
   "execution_count": 14,
   "id": "1269cc9f",
   "metadata": {},
   "outputs": [
    {
     "data": {
      "text/plain": [
       "1.0"
      ]
     },
     "execution_count": 14,
     "metadata": {},
     "output_type": "execute_result"
    }
   ],
   "source": [
    "special.comb(5, 0)\n"
   ]
  },
  {
   "cell_type": "code",
   "execution_count": 11,
   "id": "1f4be95f",
   "metadata": {},
   "outputs": [
    {
     "data": {
      "text/plain": [
       "0.23040000000000005"
      ]
     },
     "execution_count": 11,
     "metadata": {},
     "output_type": "execute_result"
    }
   ],
   "source": [
    "10*(0.4**3)*(0.6**2)"
   ]
  },
  {
   "cell_type": "code",
   "execution_count": 18,
   "id": "85c2ef33",
   "metadata": {},
   "outputs": [
    {
     "data": {
      "text/plain": [
       "0.9222400000000001"
      ]
     },
     "execution_count": 18,
     "metadata": {},
     "output_type": "execute_result"
    }
   ],
   "source": [
    "1-(0.6**5)"
   ]
  },
  {
   "cell_type": "code",
   "execution_count": 32,
   "id": "a69a4961",
   "metadata": {},
   "outputs": [],
   "source": [
    "a=special.comb(8, 0)\n",
    "b=special.comb(8, 1)\n"
   ]
  },
  {
   "cell_type": "code",
   "execution_count": 35,
   "id": "695c0c47",
   "metadata": {},
   "outputs": [
    {
     "data": {
      "text/plain": [
       "0.7447016700000001"
      ]
     },
     "execution_count": 35,
     "metadata": {},
     "output_type": "execute_result"
    }
   ],
   "source": [
    "1-(a*(0.3**0)*(0.7**8)+b*(0.3**1)*(0.7**7))"
   ]
  },
  {
   "cell_type": "code",
   "execution_count": 41,
   "id": "535ad404",
   "metadata": {},
   "outputs": [
    {
     "data": {
      "text/plain": [
       "0.41990399999999994"
      ]
     },
     "execution_count": 41,
     "metadata": {},
     "output_type": "execute_result"
    }
   ],
   "source": [
    "a=special.comb(7, 0)\n",
    "b=special.comb(7, 1)\n",
    "c=special.comb(7, 2)\n",
    "a*(0.4**0)*(0.6**7)+b*(0.4**1)*(0.6**6)+c*(0.4**2)*(0.6**5)"
   ]
  },
  {
   "cell_type": "code",
   "execution_count": 42,
   "id": "fb8a5b5d",
   "metadata": {},
   "outputs": [
    {
     "data": {
      "text/plain": [
       "0.7734375"
      ]
     },
     "execution_count": 42,
     "metadata": {},
     "output_type": "execute_result"
    }
   ],
   "source": [
    "a=special.comb(7, 0)\n",
    "b=special.comb(7, 1)\n",
    "c=special.comb(7, 2)\n",
    "1-(a*(0.5**0)*(0.5**7)+b*(0.5**1)*(0.5**6)+c*(0.5**2)*(0.5**5))"
   ]
  },
  {
   "cell_type": "code",
   "execution_count": 44,
   "id": "4c43b210",
   "metadata": {},
   "outputs": [
    {
     "data": {
      "text/plain": [
       "0.466064453125"
      ]
     },
     "execution_count": 44,
     "metadata": {},
     "output_type": "execute_result"
    }
   ],
   "source": [
    "a=special.comb(6, 0)\n",
    "b=special.comb(6, 1)\n",
    "1-(a*(0.25**0)*(0.75**6)+b*(0.25**1)*(0.75**5))"
   ]
  },
  {
   "cell_type": "code",
   "execution_count": 45,
   "id": "2019fd1d",
   "metadata": {},
   "outputs": [
    {
     "data": {
      "text/plain": [
       "0.9298091736000003"
      ]
     },
     "execution_count": 45,
     "metadata": {},
     "output_type": "execute_result"
    }
   ],
   "source": [
    "a=special.comb(10, 0)\n",
    "b=special.comb(10, 1)\n",
    "c=special.comb(10, 2)\n",
    "a*(0.1**0)*(0.9**10)+b*(0.1**1)*(0.9**9)+c*(0.1**2)*(0.9**8)"
   ]
  },
  {
   "cell_type": "code",
   "execution_count": 46,
   "id": "c246d621",
   "metadata": {},
   "outputs": [
    {
     "data": {
      "text/plain": [
       "0.22765622036690203"
      ]
     },
     "execution_count": 46,
     "metadata": {},
     "output_type": "execute_result"
    }
   ],
   "source": [
    "a=special.comb(30, 2)\n",
    "a*(0.1**2)*(0.9**28)"
   ]
  },
  {
   "cell_type": "code",
   "execution_count": 47,
   "id": "527eeaaa",
   "metadata": {},
   "outputs": [
    {
     "data": {
      "text/plain": [
       "0.087890625"
      ]
     },
     "execution_count": 47,
     "metadata": {},
     "output_type": "execute_result"
    }
   ],
   "source": [
    "45/512"
   ]
  },
  {
   "cell_type": "code",
   "execution_count": 49,
   "id": "fe140e40",
   "metadata": {},
   "outputs": [
    {
     "data": {
      "text/plain": [
       "0.03559999999999999"
      ]
     },
     "execution_count": 49,
     "metadata": {},
     "output_type": "execute_result"
    }
   ],
   "source": [
    "a=180\n",
    "b=170\n",
    "c=500-a-b\n",
    "k=0.03\n",
    "n=0.02\n",
    "m=0.06\n",
    "k*a/500 + n*b/500 + c*m/500"
   ]
  },
  {
   "cell_type": "code",
   "execution_count": 50,
   "id": "b7482123",
   "metadata": {},
   "outputs": [
    {
     "data": {
      "text/plain": [
       "0.8588235294117647"
      ]
     },
     "execution_count": 50,
     "metadata": {},
     "output_type": "execute_result"
    }
   ],
   "source": [
    "a=1/17\n",
    "b=4/17\n",
    "c=12/17\n",
    "k=0.8\n",
    "n=0.9\n",
    "m=0.85\n",
    "k*a + n*b + c*m"
   ]
  },
  {
   "cell_type": "code",
   "execution_count": 53,
   "id": "adabce52",
   "metadata": {},
   "outputs": [
    {
     "name": "stdout",
     "output_type": "stream",
     "text": [
      "0.5547945205479452\n",
      "0.10958904109589042\n",
      "0.33561643835616434\n"
     ]
    }
   ],
   "source": [
    "P=0.9*18/40+0.4*8/40+0.7*14/40\n",
    "print((0.9*18/40)/P)\n",
    "print((0.4*8/40)/P)\n",
    "print((0.7*14/40)/P)\n"
   ]
  },
  {
   "cell_type": "code",
   "execution_count": 56,
   "id": "aec2a00a",
   "metadata": {},
   "outputs": [
    {
     "data": {
      "text/plain": [
       "0.78"
      ]
     },
     "execution_count": 56,
     "metadata": {},
     "output_type": "execute_result"
    }
   ],
   "source": [
    "P=0.9*12/50+0.6*20/50+0.9*18/50\n",
    "P"
   ]
  },
  {
   "cell_type": "code",
   "execution_count": 60,
   "id": "ed5953b0",
   "metadata": {},
   "outputs": [
    {
     "data": {
      "text/plain": [
       "0.9933110367892977"
      ]
     },
     "execution_count": 60,
     "metadata": {},
     "output_type": "execute_result"
    }
   ],
   "source": [
    "0.6*0.99/(0.6*0.99+0.01*0.4)"
   ]
  },
  {
   "cell_type": "code",
   "execution_count": 3,
   "id": "2e170c4d",
   "metadata": {},
   "outputs": [
    {
     "data": {
      "text/plain": [
       "0.27777777777777773"
      ]
     },
     "execution_count": 3,
     "metadata": {},
     "output_type": "execute_result"
    }
   ],
   "source": [
    "a=0.2\n",
    "b=0.5\n",
    "c=0.3\n",
    "k=0.02\n",
    "n=0.01\n",
    "m=0.03\n",
    "P=k*a + n*b + c*m\n",
    "S=b*n/P\n",
    "S"
   ]
  },
  {
   "cell_type": "code",
   "execution_count": 6,
   "id": "bc721df0",
   "metadata": {},
   "outputs": [
    {
     "data": {
      "text/plain": [
       "0.0015820996722793552"
      ]
     },
     "execution_count": 6,
     "metadata": {},
     "output_type": "execute_result"
    }
   ],
   "source": [
    "t=0.98\n",
    "f=0.05\n",
    "p=0.07\n",
    "\n",
    "P_x=(1-t)*p+(1-f)*(1-p) #нет самолёта\n",
    "S=p*(1-t)/P_x\n",
    "S"
   ]
  },
  {
   "cell_type": "code",
   "execution_count": 5,
   "id": "2a1d7652",
   "metadata": {},
   "outputs": [
    {
     "data": {
      "text/plain": [
       "0.5960034752389227"
      ]
     },
     "execution_count": 5,
     "metadata": {},
     "output_type": "execute_result"
    }
   ],
   "source": [
    "t=0.98\n",
    "f=0.05\n",
    "p=0.07\n",
    "\n",
    "P_x=t*p+f*(1-p)\n",
    "S=p*t/P_x\n",
    "S"
   ]
  },
  {
   "cell_type": "code",
   "execution_count": 7,
   "id": "fdf54045",
   "metadata": {},
   "outputs": [
    {
     "data": {
      "text/plain": [
       "0.7032967032967034"
      ]
     },
     "execution_count": 7,
     "metadata": {},
     "output_type": "execute_result"
    }
   ],
   "source": [
    "a=0.80\n",
    "b=0.15\n",
    "c=0.05\n",
    "k=0.04\n",
    "n=0.06\n",
    "m=0.09\n",
    "P=k*a + n*b + c*m\n",
    "S=a*k/P\n",
    "S"
   ]
  },
  {
   "cell_type": "code",
   "execution_count": 1,
   "id": "e711c2c7",
   "metadata": {},
   "outputs": [],
   "source": [
    "import numpy as np\n"
   ]
  },
  {
   "cell_type": "code",
   "execution_count": 2,
   "id": "a72162e6",
   "metadata": {},
   "outputs": [],
   "source": [
    "A=np.arange(0, 100, 1)"
   ]
  },
  {
   "cell_type": "code",
   "execution_count": 3,
   "id": "5f3c546f",
   "metadata": {},
   "outputs": [
    {
     "data": {
      "text/plain": [
       "29.011"
      ]
     },
     "execution_count": 3,
     "metadata": {},
     "output_type": "execute_result"
    }
   ],
   "source": [
    "round(np.std(A, ddof=1), 3)"
   ]
  },
  {
   "cell_type": "code",
   "execution_count": null,
   "id": "50e6dd39",
   "metadata": {},
   "outputs": [],
   "source": []
  }
 ],
 "metadata": {
  "kernelspec": {
   "display_name": "Python 3",
   "language": "python",
   "name": "python3"
  },
  "language_info": {
   "codemirror_mode": {
    "name": "ipython",
    "version": 3
   },
   "file_extension": ".py",
   "mimetype": "text/x-python",
   "name": "python",
   "nbconvert_exporter": "python",
   "pygments_lexer": "ipython3",
   "version": "3.8.8"
  }
 },
 "nbformat": 4,
 "nbformat_minor": 5
}
