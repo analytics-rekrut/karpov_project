{
 "cells": [
  {
   "cell_type": "code",
   "execution_count": 1,
   "id": "e2519a91",
   "metadata": {},
   "outputs": [],
   "source": [
    "import numpy as np\n",
    "from scipy import stats"
   ]
  },
  {
   "cell_type": "code",
   "execution_count": 3,
   "id": "75956796",
   "metadata": {},
   "outputs": [],
   "source": [
    "a=np.array([5.2, 4.3, 4.7, 4.9 , 5.5])"
   ]
  },
  {
   "cell_type": "code",
   "execution_count": 12,
   "id": "d7754718",
   "metadata": {},
   "outputs": [
    {
     "data": {
      "text/plain": [
       "4.92"
      ]
     },
     "execution_count": 12,
     "metadata": {},
     "output_type": "execute_result"
    }
   ],
   "source": [
    "m=np.mean(a) # среднее значение\n",
    "m"
   ]
  },
  {
   "cell_type": "code",
   "execution_count": 19,
   "id": "99af982d",
   "metadata": {},
   "outputs": [
    {
     "data": {
      "text/plain": [
       "0.41182520563948005"
      ]
     },
     "execution_count": 19,
     "metadata": {},
     "output_type": "execute_result"
    }
   ],
   "source": [
    "sd=np.std(a) # стандартное отклонение\n",
    "sd"
   ]
  },
  {
   "cell_type": "code",
   "execution_count": 9,
   "id": "21dfd181",
   "metadata": {},
   "outputs": [],
   "source": [
    "from scipy.stats import zscore"
   ]
  },
  {
   "cell_type": "code",
   "execution_count": 10,
   "id": "faa20c30",
   "metadata": {},
   "outputs": [
    {
     "data": {
      "text/plain": [
       "array([ 0.6799001 , -1.50549309, -0.53420722, -0.04856429,  1.4083645 ])"
      ]
     },
     "execution_count": 10,
     "metadata": {},
     "output_type": "execute_result"
    }
   ],
   "source": [
    "zscore(a)"
   ]
  },
  {
   "cell_type": "code",
   "execution_count": 23,
   "id": "7f510d45",
   "metadata": {},
   "outputs": [
    {
     "data": {
      "text/plain": [
       "ShapiroResult(statistic=0.9943135380744934, pvalue=0.9924075603485107)"
      ]
     },
     "execution_count": 23,
     "metadata": {},
     "output_type": "execute_result"
    }
   ],
   "source": [
    "stats.shapiro(a) # распределение нормально."
   ]
  },
  {
   "cell_type": "code",
   "execution_count": 22,
   "id": "a30d659b",
   "metadata": {},
   "outputs": [
    {
     "data": {
      "text/plain": [
       "(4.348294961802594, 5.491705038197406)"
      ]
     },
     "execution_count": 22,
     "metadata": {},
     "output_type": "execute_result"
    }
   ],
   "source": [
    "stats.t.interval(0.95, len(a)-1, loc=np.mean(a), scale=stats.sem(a)) # доверительный интервал 95%"
   ]
  },
  {
   "cell_type": "code",
   "execution_count": null,
   "id": "1d5b64e2",
   "metadata": {},
   "outputs": [],
   "source": []
  }
 ],
 "metadata": {
  "kernelspec": {
   "display_name": "Python 3",
   "language": "python",
   "name": "python3"
  },
  "language_info": {
   "codemirror_mode": {
    "name": "ipython",
    "version": 3
   },
   "file_extension": ".py",
   "mimetype": "text/x-python",
   "name": "python",
   "nbconvert_exporter": "python",
   "pygments_lexer": "ipython3",
   "version": "3.8.8"
  }
 },
 "nbformat": 4,
 "nbformat_minor": 5
}
