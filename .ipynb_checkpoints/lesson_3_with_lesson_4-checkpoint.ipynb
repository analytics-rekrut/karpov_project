{
 "cells": [
  {
   "cell_type": "code",
   "execution_count": 1,
   "id": "72dce575",
   "metadata": {},
   "outputs": [],
   "source": [
    "import pandas as pd\n",
    "def read_n_agg(path):\n",
    "    df=pd.read_csv(path, sep=';')\n",
    "    df.groupby(\"company\").agg({\"income\" : \"mean\"})\n",
    "    return df"
   ]
  },
  {
   "cell_type": "code",
   "execution_count": 2,
   "id": "7818bcb7",
   "metadata": {},
   "outputs": [
    {
     "data": {
      "text/html": [
       "<div>\n",
       "<style scoped>\n",
       "    .dataframe tbody tr th:only-of-type {\n",
       "        vertical-align: middle;\n",
       "    }\n",
       "\n",
       "    .dataframe tbody tr th {\n",
       "        vertical-align: top;\n",
       "    }\n",
       "\n",
       "    .dataframe thead th {\n",
       "        text-align: right;\n",
       "    }\n",
       "</style>\n",
       "<table border=\"1\" class=\"dataframe\">\n",
       "  <thead>\n",
       "    <tr style=\"text-align: right;\">\n",
       "      <th></th>\n",
       "      <th>company</th>\n",
       "      <th>income</th>\n",
       "      <th>date</th>\n",
       "    </tr>\n",
       "  </thead>\n",
       "  <tbody>\n",
       "    <tr>\n",
       "      <th>0</th>\n",
       "      <td>ЗАО «Доронин, Колобов и Калашникова»</td>\n",
       "      <td>1221331958</td>\n",
       "      <td>2019-09-09</td>\n",
       "    </tr>\n",
       "    <tr>\n",
       "      <th>1</th>\n",
       "      <td>ООО «Авдеев»</td>\n",
       "      <td>21116804375</td>\n",
       "      <td>1972-12-21</td>\n",
       "    </tr>\n",
       "    <tr>\n",
       "      <th>2</th>\n",
       "      <td>РАО «Аксенов Сорокина»</td>\n",
       "      <td>79257158759</td>\n",
       "      <td>2007-03-05</td>\n",
       "    </tr>\n",
       "    <tr>\n",
       "      <th>3</th>\n",
       "      <td>Ларионов Инкорпорэйтед</td>\n",
       "      <td>36799366126</td>\n",
       "      <td>2011-08-11</td>\n",
       "    </tr>\n",
       "    <tr>\n",
       "      <th>4</th>\n",
       "      <td>Григорьев Инкорпорэйтед</td>\n",
       "      <td>48201837498</td>\n",
       "      <td>1989-09-02</td>\n",
       "    </tr>\n",
       "    <tr>\n",
       "      <th>...</th>\n",
       "      <td>...</td>\n",
       "      <td>...</td>\n",
       "      <td>...</td>\n",
       "    </tr>\n",
       "    <tr>\n",
       "      <th>288</th>\n",
       "      <td>Сэтл групп</td>\n",
       "      <td>6152279994</td>\n",
       "      <td>2004-03-30</td>\n",
       "    </tr>\n",
       "    <tr>\n",
       "      <th>289</th>\n",
       "      <td>ОАО «Горшков Чернов»</td>\n",
       "      <td>26623978007</td>\n",
       "      <td>2004-03-30</td>\n",
       "    </tr>\n",
       "    <tr>\n",
       "      <th>290</th>\n",
       "      <td>НПО «Фадеев»</td>\n",
       "      <td>84314056422</td>\n",
       "      <td>1998-09-03</td>\n",
       "    </tr>\n",
       "    <tr>\n",
       "      <th>291</th>\n",
       "      <td>Петролеум Трейдинг</td>\n",
       "      <td>95528839292</td>\n",
       "      <td>1975-01-31</td>\n",
       "    </tr>\n",
       "    <tr>\n",
       "      <th>292</th>\n",
       "      <td>ОАО «Жданова»</td>\n",
       "      <td>40620723709</td>\n",
       "      <td>2016-04-19</td>\n",
       "    </tr>\n",
       "  </tbody>\n",
       "</table>\n",
       "<p>293 rows × 3 columns</p>\n",
       "</div>"
      ],
      "text/plain": [
       "                                  company       income        date\n",
       "0    ЗАО «Доронин, Колобов и Калашникова»   1221331958  2019-09-09\n",
       "1                            ООО «Авдеев»  21116804375  1972-12-21\n",
       "2                  РАО «Аксенов Сорокина»  79257158759  2007-03-05\n",
       "3                  Ларионов Инкорпорэйтед  36799366126  2011-08-11\n",
       "4                 Григорьев Инкорпорэйтед  48201837498  1989-09-02\n",
       "..                                    ...          ...         ...\n",
       "288                            Сэтл групп   6152279994  2004-03-30\n",
       "289                  ОАО «Горшков Чернов»  26623978007  2004-03-30\n",
       "290                          НПО «Фадеев»  84314056422  1998-09-03\n",
       "291                    Петролеум Трейдинг  95528839292  1975-01-31\n",
       "292                         ОАО «Жданова»  40620723709  2016-04-19\n",
       "\n",
       "[293 rows x 3 columns]"
      ]
     },
     "execution_count": 2,
     "metadata": {},
     "output_type": "execute_result"
    }
   ],
   "source": [
    "path = \"F:\\Lessons\\companies.csv\"\n",
    "read_n_agg(path)"
   ]
  },
  {
   "cell_type": "code",
   "execution_count": 6,
   "id": "a790ec55",
   "metadata": {},
   "outputs": [],
   "source": [
    "import pandas as pd\n",
    "taxi=pd.read_csv(r'F:\\Lessons\\taxi_peru.csv', parse_dates=['start_at', 'end_at', 'arrived_at'], sep=';')\n"
   ]
  },
  {
   "cell_type": "code",
   "execution_count": 10,
   "id": "bd4c0a3b",
   "metadata": {},
   "outputs": [
    {
     "data": {
      "text/plain": [
       "iPhone     42.0\n",
       "web        33.0\n",
       "Android    21.0\n",
       "iPad        2.0\n",
       "Wap         1.0\n",
       "Name: source, dtype: float64"
      ]
     },
     "execution_count": 10,
     "metadata": {},
     "output_type": "execute_result"
    }
   ],
   "source": [
    "a=taxi_peru.source.value_counts(normalize=True)*100\n",
    "a.round()"
   ]
  },
  {
   "cell_type": "code",
   "execution_count": 11,
   "id": "c3fd40ef",
   "metadata": {},
   "outputs": [],
   "source": [
    "b=taxi.driver_score.value_counts(normalize=True).mul(100).round(2).reset_index()\n",
    "b.rename(columns = {'index': 'driver_score', 'driver_score': 'percentage'}, inplace=True)\n",
    "driver_score_counts=b.sort_values('driver_score')\n"
   ]
  },
  {
   "cell_type": "code",
   "execution_count": 64,
   "id": "4be09a0f",
   "metadata": {},
   "outputs": [
    {
     "data": {
      "image/png": "[encoded data removed]",
      "text/plain": [
       "<Figure size 432x288 with 1 Axes>"
      ]
     },
     "metadata": {
      "needs_background": "light"
     },
     "output_type": "display_data"
    }
   ],
   "source": [
    "import seaborn as sns\n",
    "import matplotlib.pyplot as plt\n",
    "ax = sns.barplot(x='driver_score', y='percentage', data=driver_score_counts, color='blue', alpha=0.5)\n",
    "ax.set(xlabel='driver_score', ylabel='Percentage')\n",
    "sns.despine()  \n",
    "plt.show()\n"
   ]
  },
  {
   "cell_type": "code",
   "execution_count": 7,
   "id": "aa7cf25f",
   "metadata": {},
   "outputs": [
    {
     "data": {
      "image/png": "[encoded data removed]",
      "text/plain": [
       "<Figure size 432x288 with 1 Axes>"
      ]
     },
     "metadata": {},
     "output_type": "display_data"
    }
   ],
   "source": [
    "r=taxi.rider_score.value_counts(normalize=True).mul(100).round(2).reset_index()\n",
    "r.rename(columns = {'index': 'rider_score', 'rider_score': 'percentage'}, inplace=True)\n",
    "rider_score_counts=r.sort_values('rider_score')\n",
    "import seaborn as sns\n",
    "import matplotlib.pyplot as plt\n",
    "ax = sns.barplot(x='rider_score', y='percentage', data=rider_score_counts, color='green', alpha=0.8)\n",
    "ax.set(xlabel='rider_score', ylabel='Percentage')\n",
    "sns.despine()  \n",
    "plt.show()\n"
   ]
  },
  {
   "cell_type": "code",
   "execution_count": 6,
   "id": "d7907dc4",
   "metadata": {},
   "outputs": [
    {
     "data": {
      "text/plain": [
       "(23111, 19)"
      ]
     },
     "execution_count": 6,
     "metadata": {},
     "output_type": "execute_result"
    }
   ],
   "source": [
    "taxi.shape"
   ]
  },
  {
   "cell_type": "code",
   "execution_count": 4,
   "id": "2df71059",
   "metadata": {},
   "outputs": [],
   "source": [
    "taxi['wait_time']=(taxi.arrived_at-taxi.start_at).astype('timedelta64[m]')\n"
   ]
  },
  {
   "cell_type": "code",
   "execution_count": 34,
   "id": "07f00d50",
   "metadata": {},
   "outputs": [
    {
     "data": {
      "text/plain": [
       "driver_id    406921adcca37705ef527b4246c0cfea\n",
       "dtype: object"
      ]
     },
     "execution_count": 34,
     "metadata": {},
     "output_type": "execute_result"
    }
   ],
   "source": [
    "taxi.query(\"wait_time >0 and start_type == 'reserved'\").groupby('driver_id').agg({\"driver_id\":'count'}).idxmax()"
   ]
  },
  {
   "cell_type": "code",
   "execution_count": 2,
   "id": "c6d58a9a",
   "metadata": {},
   "outputs": [
    {
     "data": {
      "text/html": [
       "<div>\n",
       "<style scoped>\n",
       "    .dataframe tbody tr th:only-of-type {\n",
       "        vertical-align: middle;\n",
       "    }\n",
       "\n",
       "    .dataframe tbody tr th {\n",
       "        vertical-align: top;\n",
       "    }\n",
       "\n",
       "    .dataframe thead th {\n",
       "        text-align: right;\n",
       "    }\n",
       "</style>\n",
       "<table border=\"1\" class=\"dataframe\">\n",
       "  <thead>\n",
       "    <tr style=\"text-align: right;\">\n",
       "      <th></th>\n",
       "      <th>head_inn</th>\n",
       "    </tr>\n",
       "  </thead>\n",
       "  <tbody>\n",
       "    <tr>\n",
       "      <th>0</th>\n",
       "      <td>394609645484</td>\n",
       "    </tr>\n",
       "    <tr>\n",
       "      <th>1</th>\n",
       "      <td>281578625230</td>\n",
       "    </tr>\n",
       "  </tbody>\n",
       "</table>\n",
       "</div>"
      ],
      "text/plain": [
       "       head_inn\n",
       "0  394609645484\n",
       "1  281578625230"
      ]
     },
     "execution_count": 2,
     "metadata": {},
     "output_type": "execute_result"
    }
   ],
   "source": [
    "import pandas as pd\n",
    "inn=pd.read_excel(r'F:\\Lessons\\Lesson4\\inn.xls')\n",
    "necessary=pd.read_csv(r'F:\\Lessons\\Lesson4\\necessary.txt', header=None) #Лучше укажите,что в таблице нет заголовков header=None, тогда автоматом в название колонки подставится 0\n",
    "necessary.rename(columns={0 :'head_inn'}, inplace=True) #Затем переименуйте дефолтное значение 0 (ВАЖНО это не строка а число, поэтому не надо брать 0 в кавычки) и все. Проблем не будет)\n",
    "necessary.head(2)"
   ]
  },
  {
   "cell_type": "code",
   "execution_count": 107,
   "id": "2328834a",
   "metadata": {},
   "outputs": [
    {
     "data": {
      "text/plain": [
       "6104522627393"
      ]
     },
     "execution_count": 107,
     "metadata": {},
     "output_type": "execute_result"
    }
   ],
   "source": [
    "itog=inn.merge(necessary, how='inner', on='head_inn')\n",
    "itog.shape #итоговая таблица верная\n",
    "itog['income,RUB'].sum()"
   ]
  },
  {
   "cell_type": "code",
   "execution_count": 11,
   "id": "33bcbc0c",
   "metadata": {},
   "outputs": [
    {
     "data": {
      "text/html": [
       "<div>\n",
       "<style scoped>\n",
       "    .dataframe tbody tr th:only-of-type {\n",
       "        vertical-align: middle;\n",
       "    }\n",
       "\n",
       "    .dataframe tbody tr th {\n",
       "        vertical-align: top;\n",
       "    }\n",
       "\n",
       "    .dataframe thead th {\n",
       "        text-align: right;\n",
       "    }\n",
       "</style>\n",
       "<table border=\"1\" class=\"dataframe\">\n",
       "  <thead>\n",
       "    <tr style=\"text-align: right;\">\n",
       "      <th></th>\n",
       "      <th>journey_id</th>\n",
       "      <th>user_id</th>\n",
       "      <th>driver_id</th>\n",
       "      <th>taxi_id</th>\n",
       "      <th>icon</th>\n",
       "      <th>start_type</th>\n",
       "      <th>start_at</th>\n",
       "      <th>start_lat</th>\n",
       "      <th>start_lon</th>\n",
       "      <th>end_at</th>\n",
       "      <th>...</th>\n",
       "      <th>end_lon</th>\n",
       "      <th>end_state</th>\n",
       "      <th>driver_start_lat</th>\n",
       "      <th>driver_start_lon</th>\n",
       "      <th>arrived_at</th>\n",
       "      <th>source</th>\n",
       "      <th>driver_score</th>\n",
       "      <th>rider_score</th>\n",
       "      <th>month</th>\n",
       "      <th>weekday</th>\n",
       "    </tr>\n",
       "  </thead>\n",
       "  <tbody>\n",
       "    <tr>\n",
       "      <th>0</th>\n",
       "      <td>23a1406fc6a11d866e3c82f22eed4d4c</td>\n",
       "      <td>0e9af5bbf1edfe591b54ecdfd7e91e26</td>\n",
       "      <td>583949a89a9ee17d19e3ca4f137b6b4c</td>\n",
       "      <td>b12f4f09c783e29fe0d0ea624530db56</td>\n",
       "      <td>executive</td>\n",
       "      <td>asap</td>\n",
       "      <td>2010-11-16 16:44:00</td>\n",
       "      <td>-12,13983536</td>\n",
       "      <td>-77,02355957</td>\n",
       "      <td>2010-11-16 17:29:00</td>\n",
       "      <td>...</td>\n",
       "      <td>-77,0413208</td>\n",
       "      <td>drop off</td>\n",
       "      <td>-12,10825481</td>\n",
       "      <td>-77,0272739</td>\n",
       "      <td>2010-11-16 17:02:00</td>\n",
       "      <td>iPhone</td>\n",
       "      <td>5.0</td>\n",
       "      <td>5.0</td>\n",
       "      <td>11</td>\n",
       "      <td>Tuesday</td>\n",
       "    </tr>\n",
       "    <tr>\n",
       "      <th>1</th>\n",
       "      <td>dd2af4715d0dc16eded53afc0e243577</td>\n",
       "      <td>a553c46e3a22fb9c326aeb3d72b3334e</td>\n",
       "      <td>NaN</td>\n",
       "      <td>NaN</td>\n",
       "      <td>executive</td>\n",
       "      <td>asap</td>\n",
       "      <td>2010-06-01 00:34:00</td>\n",
       "      <td>-12,13874817</td>\n",
       "      <td>-76,99536133</td>\n",
       "      <td>2010-06-01 00:37:00</td>\n",
       "      <td>...</td>\n",
       "      <td>-77,02886963</td>\n",
       "      <td>not found</td>\n",
       "      <td>NaN</td>\n",
       "      <td>NaN</td>\n",
       "      <td>NaT</td>\n",
       "      <td>iPhone</td>\n",
       "      <td>NaN</td>\n",
       "      <td>NaN</td>\n",
       "      <td>6</td>\n",
       "      <td>Tuesday</td>\n",
       "    </tr>\n",
       "  </tbody>\n",
       "</table>\n",
       "<p>2 rows × 21 columns</p>\n",
       "</div>"
      ],
      "text/plain": [
       "                         journey_id                           user_id  \\\n",
       "0  23a1406fc6a11d866e3c82f22eed4d4c  0e9af5bbf1edfe591b54ecdfd7e91e26   \n",
       "1  dd2af4715d0dc16eded53afc0e243577  a553c46e3a22fb9c326aeb3d72b3334e   \n",
       "\n",
       "                          driver_id                           taxi_id  \\\n",
       "0  583949a89a9ee17d19e3ca4f137b6b4c  b12f4f09c783e29fe0d0ea624530db56   \n",
       "1                               NaN                               NaN   \n",
       "\n",
       "        icon start_type            start_at     start_lat     start_lon  \\\n",
       "0  executive       asap 2010-11-16 16:44:00  -12,13983536  -77,02355957   \n",
       "1  executive       asap 2010-06-01 00:34:00  -12,13874817  -76,99536133   \n",
       "\n",
       "               end_at  ...       end_lon  end_state driver_start_lat  \\\n",
       "0 2010-11-16 17:29:00  ...   -77,0413208   drop off     -12,10825481   \n",
       "1 2010-06-01 00:37:00  ...  -77,02886963  not found              NaN   \n",
       "\n",
       "  driver_start_lon          arrived_at  source driver_score  rider_score  \\\n",
       "0      -77,0272739 2010-11-16 17:02:00  iPhone          5.0          5.0   \n",
       "1              NaN                 NaT  iPhone          NaN          NaN   \n",
       "\n",
       "   month  weekday  \n",
       "0     11  Tuesday  \n",
       "1      6  Tuesday  \n",
       "\n",
       "[2 rows x 21 columns]"
      ]
     },
     "execution_count": 11,
     "metadata": {},
     "output_type": "execute_result"
    }
   ],
   "source": [
    "import datetime as dt\n",
    "taxi['month']=taxi[\"start_at\"].dt.month\n",
    "taxi['weekday']=taxi[\"start_at\"].dt.strftime(\"%A\")\n",
    "taxi.head(2)"
   ]
  },
  {
   "cell_type": "code",
   "execution_count": 16,
   "id": "892c45b9",
   "metadata": {},
   "outputs": [
    {
     "data": {
      "image/png": "[encoded data removed]",
      "text/plain": [
       "<Figure size 1440x216 with 1 Axes>"
      ]
     },
     "metadata": {},
     "output_type": "display_data"
    }
   ],
   "source": [
    "import seaborn as sns\n",
    "import matplotlib.pyplot as plt\n",
    "plt.figure(figsize=(20,3 )) #масштабирую\n",
    "sns.set_theme(style=\"dark\")\n",
    "ax = sns.countplot(x=\"month\", data=taxi)"
   ]
  },
  {
   "cell_type": "code",
   "execution_count": 3,
   "id": "f9ccbc58",
   "metadata": {},
   "outputs": [
    {
     "ename": "NameError",
     "evalue": "name 'taxi' is not defined",
     "output_type": "error",
     "traceback": [
      "\u001b[1;31m---------------------------------------------------------------------------\u001b[0m",
      "\u001b[1;31mNameError\u001b[0m                                 Traceback (most recent call last)",
      "\u001b[1;32m<ipython-input-3-c6cd26497400>\u001b[0m in \u001b[0;36m<module>\u001b[1;34m\u001b[0m\n\u001b[0;32m      2\u001b[0m \u001b[1;33m\u001b[0m\u001b[0m\n\u001b[0;32m      3\u001b[0m \u001b[0msns\u001b[0m\u001b[1;33m.\u001b[0m\u001b[0mset_theme\u001b[0m\u001b[1;33m(\u001b[0m\u001b[0mstyle\u001b[0m\u001b[1;33m=\u001b[0m\u001b[1;34m\"dark\"\u001b[0m\u001b[1;33m)\u001b[0m\u001b[1;33m\u001b[0m\u001b[1;33m\u001b[0m\u001b[0m\n\u001b[1;32m----> 4\u001b[1;33m \u001b[0msns\u001b[0m\u001b[1;33m.\u001b[0m\u001b[0mcountplot\u001b[0m\u001b[1;33m(\u001b[0m\u001b[0mtaxi\u001b[0m\u001b[1;33m[\u001b[0m\u001b[1;34m'weekday'\u001b[0m\u001b[1;33m]\u001b[0m\u001b[1;33m,\u001b[0m \u001b[0morder\u001b[0m\u001b[1;33m=\u001b[0m\u001b[1;33m[\u001b[0m\u001b[1;34m'Monday'\u001b[0m\u001b[1;33m,\u001b[0m \u001b[1;34m'Tuesday'\u001b[0m\u001b[1;33m,\u001b[0m \u001b[1;34m'Wednesday'\u001b[0m\u001b[1;33m,\u001b[0m \u001b[1;34m\"Thursday\"\u001b[0m\u001b[1;33m,\u001b[0m \u001b[1;34m'Friday'\u001b[0m\u001b[1;33m,\u001b[0m \u001b[1;34m'Saturday'\u001b[0m\u001b[1;33m,\u001b[0m \u001b[1;34m'Sunday'\u001b[0m\u001b[1;33m]\u001b[0m\u001b[1;33m)\u001b[0m\u001b[1;33m\u001b[0m\u001b[1;33m\u001b[0m\u001b[0m\n\u001b[0m",
      "\u001b[1;31mNameError\u001b[0m: name 'taxi' is not defined"
     ]
    }
   ],
   "source": [
    "import seaborn as sns\n",
    "\n",
    "sns.set_theme(style=\"dark\")\n",
    "sns.countplot(taxi['weekday'], order=['Monday', 'Tuesday', 'Wednesday', \"Thursday\", 'Friday', 'Saturday', 'Sunday'])\n"
   ]
  },
  {
   "cell_type": "code",
   "execution_count": null,
   "id": "9de7e906",
   "metadata": {},
   "outputs": [],
   "source": []
  }
 ],
 "metadata": {
  "kernelspec": {
   "display_name": "Python 3",
   "language": "python",
   "name": "python3"
  },
  "language_info": {
   "codemirror_mode": {
    "name": "ipython",
    "version": 3
   },
   "file_extension": ".py",
   "mimetype": "text/x-python",
   "name": "python",
   "nbconvert_exporter": "python",
   "pygments_lexer": "ipython3",
   "version": "3.8.8"
  }
 },
 "nbformat": 4,
 "nbformat_minor": 5
}
