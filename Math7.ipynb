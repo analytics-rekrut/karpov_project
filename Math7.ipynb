{
 "cells": [
  {
   "cell_type": "code",
   "execution_count": 1,
   "id": "b8dd422a",
   "metadata": {},
   "outputs": [],
   "source": [
    "import pandas as pd\n",
    "import statsmodels.formula.api as smf\n",
    "import statsmodels.api as sm\n",
    "from sklearn.linear_model import LinearRegression\n",
    "import numpy as np\n",
    "from statsmodels.stats.multicomp import pairwise_tukeyhsd\n",
    "from statsmodels.formula.api import ols\n",
    "from statsmodels.base.model import Model"
   ]
  },
  {
   "cell_type": "code",
   "execution_count": 2,
   "id": "c8175f6b",
   "metadata": {},
   "outputs": [],
   "source": [
    "df=pd.read_csv(r'F:\\Lessons\\Math\\\\cars.csv', sep=',')"
   ]
  },
  {
   "cell_type": "code",
   "execution_count": 3,
   "id": "39058f11",
   "metadata": {},
   "outputs": [],
   "source": [
    "df['company']=df.CarName.apply(lambda x: x.split(' ')[0])"
   ]
  },
  {
   "cell_type": "code",
   "execution_count": 4,
   "id": "03b9e620",
   "metadata": {},
   "outputs": [],
   "source": [
    "df.drop(columns=[\"car_ID\", \"CarName\"], inplace=True)"
   ]
  },
  {
   "cell_type": "code",
   "execution_count": 5,
   "id": "9d0935fc",
   "metadata": {},
   "outputs": [],
   "source": [
    "df['company']=df['company'].str.lower()"
   ]
  },
  {
   "cell_type": "code",
   "execution_count": 6,
   "id": "2b8cad40",
   "metadata": {},
   "outputs": [],
   "source": [
    "df['company'].replace({'maxda' : 'mazda','porcshce' : 'porsche','toyouta' : 'toyota', 'vokswagen' : 'volkswagen', 'vw':'volkswagen'}, inplace=True)"
   ]
  },
  {
   "cell_type": "code",
   "execution_count": 7,
   "id": "da67ff06",
   "metadata": {
    "scrolled": true
   },
   "outputs": [
    {
     "data": {
      "text/plain": [
       "symboling          -0.079978\n",
       "wheelbase           0.577816\n",
       "carlength           0.682920\n",
       "carwidth            0.759325\n",
       "carheight           0.119336\n",
       "curbweight          0.835305\n",
       "enginesize          0.874145\n",
       "boreratio           0.553173\n",
       "stroke              0.079443\n",
       "compressionratio    0.067984\n",
       "horsepower          0.808139\n",
       "peakrpm            -0.085267\n",
       "citympg            -0.685751\n",
       "highwaympg         -0.697599\n",
       "price               1.000000\n",
       "Name: price, dtype: float64"
      ]
     },
     "execution_count": 7,
     "metadata": {},
     "output_type": "execute_result"
    }
   ],
   "source": [
    "df.corr().price"
   ]
  },
  {
   "cell_type": "code",
   "execution_count": 8,
   "id": "401d1936",
   "metadata": {},
   "outputs": [
    {
     "data": {
      "text/plain": [
       "Index(['fueltype', 'aspiration', 'doornumber', 'carbody', 'drivewheel',\n",
       "       'enginelocation', 'enginetype', 'cylindernumber', 'fuelsystem',\n",
       "       'company'],\n",
       "      dtype='object')"
      ]
     },
     "execution_count": 8,
     "metadata": {},
     "output_type": "execute_result"
    }
   ],
   "source": [
    "tmp=df.select_dtypes(include='object').columns\n",
    "tmp"
   ]
  },
  {
   "cell_type": "code",
   "execution_count": 9,
   "id": "a270fc1b",
   "metadata": {},
   "outputs": [],
   "source": [
    "work=['company', 'fueltype', 'aspiration','carbody', 'drivewheel', \n",
    "      'wheelbase', 'carlength','carwidth', 'curbweight', \n",
    "      'enginetype', 'cylindernumber', 'enginesize', 'boreratio','horsepower', 'price']"
   ]
  },
  {
   "cell_type": "code",
   "execution_count": 10,
   "id": "6954d2f7",
   "metadata": {},
   "outputs": [
    {
     "name": "stdout",
     "output_type": "stream",
     "text": [
      "['doornumber', 'enginelocation', 'fuelsystem']\n"
     ]
    }
   ],
   "source": [
    "a=[]\n",
    "for i in tmp:\n",
    "    if i not in work:\n",
    "        a.append(i)\n",
    "print(a)\n"
   ]
  },
  {
   "cell_type": "code",
   "execution_count": 11,
   "id": "c9346052",
   "metadata": {},
   "outputs": [],
   "source": [
    "df_dummy = pd.get_dummies(data=df[['fueltype', 'aspiration', 'doornumber', 'carbody', 'drivewheel',\n",
    "       'enginelocation', 'enginetype', 'cylindernumber', 'fuelsystem', 'company']], drop_first = True )"
   ]
  },
  {
   "cell_type": "code",
   "execution_count": 12,
   "id": "59a178dc",
   "metadata": {},
   "outputs": [],
   "source": [
    "df.drop(columns=['doornumber', 'enginelocation', 'fuelsystem', 'fueltype', 'aspiration', 'doornumber', 'carbody', 'drivewheel',\n",
    "       'enginelocation', 'enginetype', 'cylindernumber', 'fuelsystem', 'company'],inplace=True)"
   ]
  },
  {
   "cell_type": "code",
   "execution_count": 13,
   "id": "99215d62",
   "metadata": {},
   "outputs": [],
   "source": [
    "df_dummy=pd.concat([df_dummy, df], axis=1)"
   ]
  },
  {
   "cell_type": "code",
   "execution_count": 14,
   "id": "d385b65c",
   "metadata": {},
   "outputs": [
    {
     "data": {
      "text/plain": [
       "(205, 65)"
      ]
     },
     "execution_count": 14,
     "metadata": {},
     "output_type": "execute_result"
    }
   ],
   "source": [
    "df_dummy.shape"
   ]
  },
  {
   "cell_type": "code",
   "execution_count": null,
   "id": "86598ead",
   "metadata": {},
   "outputs": [],
   "source": []
  }
 ],
 "metadata": {
  "kernelspec": {
   "display_name": "Python 3",
   "language": "python",
   "name": "python3"
  },
  "language_info": {
   "codemirror_mode": {
    "name": "ipython",
    "version": 3
   },
   "file_extension": ".py",
   "mimetype": "text/x-python",
   "name": "python",
   "nbconvert_exporter": "python",
   "pygments_lexer": "ipython3",
   "version": "3.8.8"
  }
 },
 "nbformat": 4,
 "nbformat_minor": 5
}
